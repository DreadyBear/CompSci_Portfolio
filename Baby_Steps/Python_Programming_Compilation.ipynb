{
 "cells": [
  {
   "cell_type": "markdown",
   "metadata": {},
   "source": [
    "# Python Programming Compilation"
   ]
  },
  {
   "cell_type": "code",
   "execution_count": null,
   "metadata": {},
   "outputs": [],
   "source": [
    "# My First Program\n",
    "print('Hello, World.')"
   ]
  },
  {
   "cell_type": "code",
   "execution_count": null,
   "metadata": {},
   "outputs": [],
   "source": [
    "# My second program\n",
    "print('Good, morning!')\n",
    "print('Vietnam!')\n",
    "print('Good morning,', 'Vietnam!')"
   ]
  },
  {
   "cell_type": "code",
   "execution_count": null,
   "metadata": {},
   "outputs": [],
   "source": [
    "# My third program\n",
    "print('Mitchell Ashton') \n",
    "print('')\n",
    "print('37 Ruscoe Avenue, Sandbach Cheshire, CW11 3HG! \\n')\n",
    "print('01270 761525')"
   ]
  },
  {
   "cell_type": "code",
   "execution_count": null,
   "metadata": {},
   "outputs": [],
   "source": [
    "# Concatenation\n",
    "print('work' \n",
    "      + 'ing ' \n",
    "      + 'with ' \n",
    "      + 'concat' \n",
    "      + 'enation.' \n",
    "      + '...')"
   ]
  },
  {
   "cell_type": "code",
   "execution_count": null,
   "metadata": {},
   "outputs": [],
   "source": [
    "# Variables, Escape Character, Slicing\n",
    "variables = ('this string is a variable')\n",
    "print(variables, 'variables go in brackets after print')\n",
    "print('don\\'t forget the commas between variables and strings in the print function')\n",
    "print('or the opening and closing commas, and remember the escape character \\\\')\n",
    "\n",
    "animal = 'rat'\n",
    "vegetable ='carrot'\n",
    "mineral = 'quartz'\n",
    "celebrity = 'mozart'\n",
    "\n",
    "print (animal[1], ' ', vegetable[0], vegetable[1], vegetable[2], vegetable[3], vegetable[4], vegetable[5],)\n",
    "print('strings need commas, there is automatic spacing between printing variables, avoid this with concatenation, no space or comma')\n",
    "print (animal[1], \n",
    "       vegetable[0] \n",
    "       + vegetable[1] \n",
    "       + vegetable[2]\n",
    "       + vegetable[3] \n",
    "       + vegetable[4]\n",
    "       + vegetable[5])\n",
    "\n",
    "print()\n",
    "print()\n",
    "\n",
    "phrase = 'a whole lot of laughs'\n",
    "segment = phrase[8:]\n",
    "print(segment)\n",
    "print('printing the segment of a string is done with [x:x], where x is the index position, 0 is first, defaults are start and end of string')"
   ]
  },
  {
   "cell_type": "code",
   "execution_count": null,
   "metadata": {},
   "outputs": [],
   "source": [
    "# Fiat Currency Exchanger Concept\n",
    "euro = float(input('Would you like to type some number? '))\n",
    "\n",
    "sterling = float(euro*.5)\n",
    "dollar = float(euro*2)\n",
    "\n",
    "print('Euro: ', euro)\n",
    "print('Sterling: ', sterling)\n",
    "print('Dollar:', dollar)"
   ]
  },
  {
   "cell_type": "code",
   "execution_count": null,
   "metadata": {},
   "outputs": [],
   "source": [
    "# Importing Modules, Area of a Square\n",
    "import math\n",
    "length = float(input('Length is what? '))\n",
    "\n",
    "square_area = length * length\n",
    "\n",
    "print (square_area)"
   ]
  },
  {
   "cell_type": "code",
   "execution_count": null,
   "metadata": {},
   "outputs": [],
   "source": [
    "# Tiered Tax Calculator Concept\n",
    "value = float(input('ammount to tax: '))\n",
    "\n",
    "seventy = (value / 100 * 70)\n",
    "thirty = (value / 100 * 30)\n",
    "lowrate = (seventy / 100 * 5)\n",
    "highrate = (thirty /100 * 5)\n",
    "\n",
    "total = (highrate + lowrate) \n",
    "\n",
    "net = (value - total)\n",
    "\n",
    "print(net)"
   ]
  },
  {
   "cell_type": "code",
   "execution_count": 1,
   "metadata": {},
   "outputs": [
    {
     "name": "stdout",
     "output_type": "stream",
     "text": [
      "cash 15\n"
     ]
    }
   ],
   "source": [
    "# Cash Machine Concept\n",
    "euro = float(input('cash '))\n",
    "\n",
    "if euro > 100 and euro != 101:\n",
    "    print('That is bigger than 100')\n",
    "elif euro == 101: \n",
    "    print('That number is 101')\n",
    "elif euro >= 100 and euro != 101: \n",
    "    print('That is not bigger than 100')\n"
   ]
  },
  {
   "cell_type": "code",
   "execution_count": 2,
   "metadata": {},
   "outputs": [
    {
     "name": "stdout",
     "output_type": "stream",
     "text": [
      "First: 11\n",
      "Second: 13\n",
      "Third: 15\n",
      "biggest odd is: \n",
      "15\n"
     ]
    }
   ],
   "source": [
    "# Modulus Division, Largest Odd Number\n",
    "num1 = int(input('First: '))\n",
    "num2 = int(input('Second: '))\n",
    "num3 = int(input('Third: '))\n",
    "\n",
    "numa = num1 % 2\n",
    "numb = num2 % 2\n",
    "numc = num3 % 2\n",
    "odd = 0 \n",
    "\n",
    "if numa != 0 and num1 > odd:\n",
    "    odd = num1\n",
    "if numb != 0 and num2 > odd:\n",
    "    odd = num2\n",
    "if numc != 0 and num3 > odd:\n",
    "    odd = num3\n",
    "    \n",
    "print('Biggest odd is: ')\n",
    "print(odd)"
   ]
  },
  {
   "cell_type": "code",
   "execution_count": 11,
   "metadata": {},
   "outputs": [
    {
     "name": "stdout",
     "output_type": "stream",
     "text": [
      "1 cubed is:  1\n",
      "2 cubed is:  8\n",
      "3 cubed is:  27\n",
      "4 cubed is:  64\n",
      "5 cubed is:  125\n",
      "6 cubed is:  216\n",
      "7 cubed is:  343\n",
      "8 cubed is:  512\n",
      "9 cubed is:  729\n",
      "10 cubed is:  1000\n",
      "11 cubed is:  1331\n",
      "12 cubed is:  1728\n",
      "13 cubed is:  2197\n",
      "14 cubed is:  2744\n",
      "15 cubed is:  3375\n",
      "16 cubed is:  4096\n",
      "17 cubed is:  4913\n",
      "18 cubed is:  5832\n",
      "19 cubed is:  6859\n",
      "20 cubed is:  8000\n",
      "21 cubed is:  9261\n",
      "22 cubed is:  10648\n",
      "23 cubed is:  12167\n",
      "24 cubed is:  13824\n",
      "25 cubed is:  15625\n",
      "26 cubed is:  17576\n",
      "27 cubed is:  19683\n",
      "28 cubed is:  21952\n",
      "29 cubed is:  24389\n",
      "30 cubed is:  27000\n",
      "31 cubed is:  29791\n",
      "32 cubed is:  32768\n",
      "33 cubed is:  35937\n",
      "34 cubed is:  39304\n",
      "35 cubed is:  42875\n",
      "36 cubed is:  46656\n",
      "37 cubed is:  50653\n",
      "38 cubed is:  54872\n",
      "39 cubed is:  59319\n",
      "40 cubed is:  64000\n",
      "41 cubed is:  68921\n",
      "42 cubed is:  74088\n",
      "43 cubed is:  79507\n",
      "44 cubed is:  85184\n",
      "45 cubed is:  91125\n",
      "46 cubed is:  97336\n",
      "47 cubed is:  103823\n",
      "48 cubed is:  110592\n",
      "1 0\n",
      "2 1\n",
      "3 3\n",
      "4 6\n",
      "5 10\n",
      "6 15\n",
      "7 21\n",
      "8 28\n",
      "9 36\n",
      "10 45\n",
      "11 55\n",
      "12 66\n",
      "13 78\n",
      "14 91\n",
      "15 105\n",
      "16 120\n",
      "17 136\n",
      "18 153\n",
      "19 171\n",
      "20 190\n",
      "21 210\n",
      "22 231\n",
      "23 253\n",
      "24 276\n",
      "25 300\n",
      "26 325\n",
      "27 351\n",
      "28 378\n",
      "29 406\n",
      "30 435\n",
      "31 465\n",
      "32 496\n",
      "33 528\n",
      "34 561\n",
      "35 595\n",
      "36 630\n",
      "37 666\n",
      "38 703\n",
      "39 741\n",
      "40 780\n",
      "41 820\n",
      "42 861\n",
      "43 903\n",
      "44 946\n",
      "45 990\n",
      "46 1035\n",
      "47 1081\n",
      "48 1128\n",
      "49 1176\n",
      "50 1225\n",
      "51 1275\n",
      "52 1326\n",
      "53 1378\n",
      "54 1431\n",
      "55 1485\n",
      "56 1540\n",
      "57 1596\n",
      "58 1653\n",
      "59 1711\n",
      "60 1770\n",
      "61 1830\n",
      "62 1891\n",
      "63 1953\n",
      "64 2016\n",
      "65 2080\n",
      "66 2145\n",
      "67 2211\n",
      "68 2278\n",
      "69 2346\n",
      "70 2415\n",
      "71 2485\n",
      "72 2556\n",
      "73 2628\n",
      "74 2701\n",
      "75 2775\n",
      "76 2850\n",
      "77 2926\n",
      "78 3003\n",
      "79 3081\n",
      "80 3160\n",
      "81 3240\n",
      "82 3321\n",
      "83 3403\n",
      "84 3486\n",
      "85 3570\n",
      "86 3655\n",
      "87 3741\n",
      "88 3828\n",
      "89 3916\n",
      "90 4005\n",
      "91 4095\n",
      "92 4186\n",
      "93 4278\n",
      "94 4371\n",
      "95 4465\n",
      "96 4560\n",
      "97 4656\n",
      "98 4753\n",
      "99 4851\n"
     ]
    }
   ],
   "source": [
    "# While Loop, First 50 Cubes, First 100 Triangular Numbers\n",
    "number = 1\n",
    "count = 1\n",
    "while number < 49:\n",
    "    print(count, 'cubed is: ', number * number * number)\n",
    "    number, count = number + 1, count + 1\n",
    "\n",
    "total = 0 \n",
    "count = 1 \n",
    "while count < 100:\n",
    "    print(count, total)\n",
    "    total = total + count\n",
    "    count = count + 1"
   ]
  },
  {
   "cell_type": "code",
   "execution_count": null,
   "metadata": {},
   "outputs": [],
   "source": [
    "a"
   ]
  }
 ],
 "metadata": {
  "kernelspec": {
   "display_name": "Python 3",
   "language": "python",
   "name": "python3"
  },
  "language_info": {
   "codemirror_mode": {
    "name": "ipython",
    "version": 3
   },
   "file_extension": ".py",
   "mimetype": "text/x-python",
   "name": "python",
   "nbconvert_exporter": "python",
   "pygments_lexer": "ipython3",
   "version": "3.7.4"
  }
 },
 "nbformat": 4,
 "nbformat_minor": 2
}
