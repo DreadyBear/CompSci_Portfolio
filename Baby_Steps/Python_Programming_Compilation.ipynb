{
 "cells": [
  {
   "cell_type": "markdown",
   "metadata": {},
   "source": [
    "# Python Programming Compilation"
   ]
  },
  {
   "cell_type": "code",
   "execution_count": 1,
   "metadata": {},
   "outputs": [
    {
     "name": "stdout",
     "output_type": "stream",
     "text": [
      "Hello, World.\n"
     ]
    }
   ],
   "source": [
    "# My First Program\n",
    "print('Hello, World.')"
   ]
  },
  {
   "cell_type": "code",
   "execution_count": 2,
   "metadata": {},
   "outputs": [
    {
     "name": "stdout",
     "output_type": "stream",
     "text": [
      "Good, morning!\n",
      "Vietnam!\n",
      "Good morning, Vietnam!\n"
     ]
    }
   ],
   "source": [
    "# My second program\n",
    "print('Good, morning!')\n",
    "print('Vietnam!')\n",
    "print('Good morning,', 'Vietnam!')"
   ]
  },
  {
   "cell_type": "code",
   "execution_count": 3,
   "metadata": {},
   "outputs": [
    {
     "name": "stdout",
     "output_type": "stream",
     "text": [
      "Mitchell Ashton\n",
      "\n",
      "37 Ruscoe Avenue, Sandbach Cheshire, CW11 3HG! \n",
      "\n",
      "01270 761525\n"
     ]
    }
   ],
   "source": [
    "# My third program\n",
    "print('Mitchell Ashton') \n",
    "print('')\n",
    "print('73 Oscar Park, Bellwoood, Cheshire, BW11 6JG \\n')\n",
    "print('555 9401')"
   ]
  },
  {
   "cell_type": "code",
   "execution_count": 4,
   "metadata": {},
   "outputs": [
    {
     "name": "stdout",
     "output_type": "stream",
     "text": [
      "working with concatenation....\n"
     ]
    }
   ],
   "source": [
    "# Concatenation\n",
    "print('work' \n",
    "      + 'ing ' \n",
    "      + 'with ' \n",
    "      + 'concat' \n",
    "      + 'enation.' \n",
    "      + '...')\n",
    "\n",
    "print('Hell' + 'o' + ', ' 'wor' + 'ld.')"
   ]
  },
  {
   "cell_type": "code",
   "execution_count": 14,
   "metadata": {},
   "outputs": [
    {
     "name": "stdout",
     "output_type": "stream",
     "text": [
      "Hello, world.\n",
      "\n",
      "this string is a variable variables go in brackets after print\n",
      "don't forget the commas between variables and strings in the print function\n",
      "or the opening and closing commas, and remember the escape character \\\n",
      "\n",
      "a   c a r r o t\n",
      "strings need commas, there is automatic spacing between printing variables, avoid this with concatenation, no space or comma\n",
      "a carrot\n",
      "\n",
      "hello, world.\n",
      "\n",
      "Segment is: elep\n",
      "\n",
      "lot of laughs\n",
      "printing the segment of a string is done with [x:x], where x is the index position, 0 is first, defaults are start and end of string\n"
     ]
    }
   ],
   "source": [
    "# Variables, Escape Character, Slicing\n",
    "variable=('Hello, ' + 'world.')\n",
    "print(variable)\n",
    "\n",
    "print()\n",
    "\n",
    "variables = ('this string is a variable')\n",
    "print(variables, 'variables go in brackets after print')\n",
    "print('don\\'t forget the commas between variables and strings in the print function')\n",
    "print('or the opening and closing commas, and remember the escape character \\\\')\n",
    "\n",
    "print()\n",
    "\n",
    "animal = 'rat'\n",
    "vegetable ='carrot'\n",
    "mineral = 'quartz'\n",
    "celebrity = 'mozart'\n",
    "\n",
    "print(animal[1], ' ', vegetable[0], vegetable[1], vegetable[2], vegetable[3], vegetable[4], vegetable[5],)\n",
    "print('strings need commas, there is automatic spacing between printing variables, avoid this with concatenation, no space or comma')\n",
    "print(animal[1], \n",
    "       vegetable[0] \n",
    "       + vegetable[1] \n",
    "       + vegetable[2]\n",
    "       + vegetable[3] \n",
    "       + vegetable[4]\n",
    "       + vegetable[5])\n",
    "\n",
    "print()\n",
    "\n",
    "animal = 'elephant'\n",
    "word = 'jumble'\n",
    "puzzle = 'orange'\n",
    "mineral = 'wood'\n",
    "\n",
    "print(animal[4] \n",
    "       + animal[0] \n",
    "      + animal[1] \n",
    "      + animal[1] \n",
    "      + puzzle[0] \n",
    "      + ', ' \n",
    "      + mineral [0] \n",
    "      + puzzle[0] \n",
    "      + puzzle[1] \n",
    "      + animal[1] \n",
    "      + mineral [3] \n",
    "      + '.')\n",
    "\n",
    "print()\n",
    "\n",
    "animals = 'herd of elephants'\n",
    "seg = animals [8:12]\n",
    "print('Segment is:', seg)\n",
    "\n",
    "print()\n",
    "\n",
    "phrase = 'a whole lot of laughs'\n",
    "segment = phrase[8:]\n",
    "print(segment)\n",
    "print('printing the segment of a string is done with [x:x], where x is the index position, 0 is first, defaults are start and end of string')"
   ]
  },
  {
   "cell_type": "code",
   "execution_count": 6,
   "metadata": {},
   "outputs": [
    {
     "name": "stdout",
     "output_type": "stream",
     "text": [
      "Would you like to type some number? 10\n",
      "Euro:  10.0\n",
      "Sterling:  5.0\n",
      "Dollar: 20.0\n"
     ]
    }
   ],
   "source": [
    "# Fiat Currency Exchanger Concept, Casting\n",
    "euro = float(input('Would you like to type some number? '))\n",
    "\n",
    "sterling = float(euro*.5)\n",
    "dollar = float(euro*2)\n",
    "\n",
    "print('Euro: ', euro)\n",
    "print('Sterling: ', sterling)\n",
    "print('Dollar:', dollar)"
   ]
  },
  {
   "cell_type": "code",
   "execution_count": 7,
   "metadata": {},
   "outputs": [
    {
     "name": "stdout",
     "output_type": "stream",
     "text": [
      "Length is what? 10\n",
      "100.0\n"
     ]
    }
   ],
   "source": [
    "# Importing Modules, Area of a Square, Casting\n",
    "import math\n",
    "length = float(input('Length is what? '))\n",
    "\n",
    "square_area = length * length\n",
    "\n",
    "print (square_area)"
   ]
  },
  {
   "cell_type": "code",
   "execution_count": 8,
   "metadata": {},
   "outputs": [
    {
     "name": "stdout",
     "output_type": "stream",
     "text": [
      "ammount to tax: 10\n",
      "9.5\n"
     ]
    }
   ],
   "source": [
    "# Tiered Tax Calculator Concept, Casting\n",
    "value = float(input('ammount to tax: '))\n",
    "\n",
    "seventy = (value / 100 * 70)\n",
    "thirty = (value / 100 * 30)\n",
    "lowrate = (seventy / 100 * 5)\n",
    "highrate = (thirty /100 * 5)\n",
    "\n",
    "total = (highrate + lowrate) \n",
    "\n",
    "net = (value - total)\n",
    "\n",
    "print(net)"
   ]
  },
  {
   "cell_type": "code",
   "execution_count": 9,
   "metadata": {},
   "outputs": [
    {
     "name": "stdout",
     "output_type": "stream",
     "text": [
      "cash 10\n"
     ]
    }
   ],
   "source": [
    "# Cash Machine Concept\n",
    "euro = float(input('cash '))\n",
    "\n",
    "if euro > 100 and euro != 101:\n",
    "    print('That is bigger than 100')\n",
    "elif euro == 101: \n",
    "    print('That number is 101')\n",
    "elif euro >= 100 and euro != 101: \n",
    "    print('That is not bigger than 100')\n"
   ]
  },
  {
   "cell_type": "code",
   "execution_count": 10,
   "metadata": {},
   "outputs": [
    {
     "name": "stdout",
     "output_type": "stream",
     "text": [
      "First: 10\n",
      "Second: 11\n",
      "Third: 13\n",
      "Biggest odd is: \n",
      "13\n"
     ]
    }
   ],
   "source": [
    "# Modulus Division, Largest Odd Number, Casting\n",
    "num1 = int(input('First: '))\n",
    "num2 = int(input('Second: '))\n",
    "num3 = int(input('Third: '))\n",
    "\n",
    "numa = num1 % 2\n",
    "numb = num2 % 2\n",
    "numc = num3 % 2\n",
    "odd = 0 \n",
    "\n",
    "if numa != 0 and num1 > odd:\n",
    "    odd = num1\n",
    "if numb != 0 and num2 > odd:\n",
    "    odd = num2\n",
    "if numc != 0 and num3 > odd:\n",
    "    odd = num3\n",
    "    \n",
    "print('Biggest odd is: ')\n",
    "print(odd)"
   ]
  },
  {
   "cell_type": "code",
   "execution_count": 11,
   "metadata": {},
   "outputs": [
    {
     "name": "stdout",
     "output_type": "stream",
     "text": [
      "1 cubed is:  1\n",
      "2 cubed is:  8\n",
      "3 cubed is:  27\n",
      "4 cubed is:  64\n",
      "5 cubed is:  125\n",
      "6 cubed is:  216\n",
      "7 cubed is:  343\n",
      "8 cubed is:  512\n",
      "1 0\n",
      "2 1\n",
      "3 3\n",
      "4 6\n",
      "5 10\n",
      "6 15\n",
      "7 21\n",
      "8 28\n",
      "9 36\n"
     ]
    }
   ],
   "source": [
    "# While Loop, First 10 Cubes, First 10 Triangular Numbers\n",
    "number = 1\n",
    "count = 1\n",
    "while number < 9:\n",
    "    print(count, 'cubed is: ', number * number * number)\n",
    "    number, count = number + 1, count + 1\n",
    "\n",
    "total = 0 \n",
    "count = 1 \n",
    "while count < 10:\n",
    "    print(count, total)\n",
    "    total = total + count\n",
    "    count = count + 1"
   ]
  },
  {
   "cell_type": "code",
   "execution_count": 19,
   "metadata": {},
   "outputs": [
    {
     "name": "stdout",
     "output_type": "stream",
     "text": [
      "How many EUROS would you like to convert to GBP? 20\n",
      "20.0 EUROS in GBP is 17.0\n"
     ]
    }
   ],
   "source": [
    "# exchange a currency to another currency\n",
    "exchange = float(input('How many EUROS would you like to convert to GBP? '))\n",
    "e2p = 0.85\n",
    "print(exchange, 'EUROS in GBP is',  exchange * e2p)"
   ]
  },
  {
   "cell_type": "code",
   "execution_count": 23,
   "metadata": {},
   "outputs": [
    {
     "name": "stdout",
     "output_type": "stream",
     "text": [
      "What is the length of the object? 5\n",
      "If this is a square, then the area will be 25.0\n",
      "If this is a cube, then the volume will be 125.0\n",
      "If this is a circle, then the area will be 19.634954375\n",
      "If this is a sphere, then the volume will be 65.44984791666667\n",
      "If this is a cylinder, then the volume will be 98.174771875\n"
     ]
    }
   ],
   "source": [
    "# Geometric Arithmitic\n",
    "length = float(input('What is the length of the object? '))\n",
    "radius = length / 2\n",
    "pi = 3.1415927\n",
    "\n",
    "print('If this is a square, then the area will be', length * length)\n",
    "print('If this is a cube, then the volume will be', length * length * length) \n",
    "print('If this is a circle, then the area will be', pi * (radius * radius))\n",
    "print('If this is a sphere, then the volume will be', (4 / 3) * pi * (radius * radius * radius))\n",
    "print('If this is a cylinder, then the volume will be', pi * (radius * radius) * length)"
   ]
  },
  {
   "cell_type": "code",
   "execution_count": 31,
   "metadata": {},
   "outputs": [
    {
     "name": "stdout",
     "output_type": "stream",
     "text": [
      "What is the net amount to calculate gross after tax? 10\n",
      "10.0 6.0 4.0\n",
      "Gross after tax is:\n",
      " 11.73\n"
     ]
    }
   ],
   "source": [
    "# Dual-Band-Tax calculator \n",
    "\n",
    "net = float(input('What is the net amount to calculate gross after tax? '))\n",
    "sixty = net * .6\n",
    "lowrate = sixty * .135\n",
    "fourty = net * .4\n",
    "highrate = fourty * .23\n",
    "\n",
    "print('Gross after tax is:\\n', net + lowrate + highrate)"
   ]
  },
  {
   "cell_type": "code",
   "execution_count": null,
   "metadata": {},
   "outputs": [],
   "source": []
  }
 ],
 "metadata": {
  "kernelspec": {
   "display_name": "Python 3",
   "language": "python",
   "name": "python3"
  },
  "language_info": {
   "codemirror_mode": {
    "name": "ipython",
    "version": 3
   },
   "file_extension": ".py",
   "mimetype": "text/x-python",
   "name": "python",
   "nbconvert_exporter": "python",
   "pygments_lexer": "ipython3",
   "version": "3.7.4"
  }
 },
 "nbformat": 4,
 "nbformat_minor": 2
}
